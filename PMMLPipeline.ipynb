{
 "cells": [
  {
   "cell_type": "code",
   "execution_count": 1,
   "metadata": {},
   "outputs": [],
   "source": [
    "#Notebook to create ML pipeline for Java Plugin\n",
    "from sklearn2pmml import PMMLPipeline, sklearn2pmml\n",
    "import pandas as pd\n",
    "from sklearn.feature_extraction.text import TfidfTransformer, CountVectorizer, TfidfVectorizer\n",
    "from sklearn import model_selection, preprocessing, neural_network, metrics, linear_model, svm\n",
    "import os\n",
    "from sklearn2pmml.feature_extraction.text import Splitter\n",
    "import string\n",
    "import random\n",
    "import numpy as np\n",
    "import nltk\n",
    "from nltk import word_tokenize          \n",
    "from nltk.stem import WordNetLemmatizer\n",
    "from nltk.corpus import wordnet"
   ]
  },
  {
   "cell_type": "code",
   "execution_count": 2,
   "metadata": {},
   "outputs": [
    {
     "data": {
      "text/html": [
       "<div>\n",
       "<style scoped>\n",
       "    .dataframe tbody tr th:only-of-type {\n",
       "        vertical-align: middle;\n",
       "    }\n",
       "\n",
       "    .dataframe tbody tr th {\n",
       "        vertical-align: top;\n",
       "    }\n",
       "\n",
       "    .dataframe thead th {\n",
       "        text-align: right;\n",
       "    }\n",
       "</style>\n",
       "<table border=\"1\" class=\"dataframe\">\n",
       "  <thead>\n",
       "    <tr style=\"text-align: right;\">\n",
       "      <th></th>\n",
       "      <th>input_1</th>\n",
       "      <th>input_2</th>\n",
       "      <th>input_3</th>\n",
       "      <th>input_4</th>\n",
       "      <th>input_5</th>\n",
       "      <th>topic</th>\n",
       "    </tr>\n",
       "  </thead>\n",
       "  <tbody>\n",
       "    <tr>\n",
       "      <th>0</th>\n",
       "      <td>What is my altitude?</td>\n",
       "      <td>How high up am I?</td>\n",
       "      <td>Altitude here</td>\n",
       "      <td>Height</td>\n",
       "      <td>Alt</td>\n",
       "      <td>altitude</td>\n",
       "    </tr>\n",
       "    <tr>\n",
       "      <th>1</th>\n",
       "      <td>What is the oxygen content?</td>\n",
       "      <td>Can I breath here?</td>\n",
       "      <td>Oxygen</td>\n",
       "      <td>Is there air on this planet?</td>\n",
       "      <td>Air</td>\n",
       "      <td>oxygen</td>\n",
       "    </tr>\n",
       "    <tr>\n",
       "      <th>2</th>\n",
       "      <td>How fast is the wind?</td>\n",
       "      <td>What is the airflow like?</td>\n",
       "      <td>What is the speed of the air on this planet?</td>\n",
       "      <td>Wind</td>\n",
       "      <td>Airflow</td>\n",
       "      <td>airflow</td>\n",
       "    </tr>\n",
       "    <tr>\n",
       "      <th>3</th>\n",
       "      <td>What is the atmosphere like?</td>\n",
       "      <td>Atmosphere contents</td>\n",
       "      <td>What is in the water?</td>\n",
       "      <td>Atmosphere</td>\n",
       "      <td>What is in the air here?</td>\n",
       "      <td>atmosphere</td>\n",
       "    </tr>\n",
       "    <tr>\n",
       "      <th>4</th>\n",
       "      <td>What is the gravity on this planet?</td>\n",
       "      <td>Gravity</td>\n",
       "      <td>What is the force pulling me down?</td>\n",
       "      <td>NaN</td>\n",
       "      <td>How fast fo I fall on this planet?</td>\n",
       "      <td>gravity</td>\n",
       "    </tr>\n",
       "    <tr>\n",
       "      <th>5</th>\n",
       "      <td>Humidity</td>\n",
       "      <td>What is the humidity here?</td>\n",
       "      <td>How moist is the air on this planet?</td>\n",
       "      <td>What is the water content in the air?</td>\n",
       "      <td>How humid is it here?</td>\n",
       "      <td>humidity</td>\n",
       "    </tr>\n",
       "    <tr>\n",
       "      <th>6</th>\n",
       "      <td>Magnetic field</td>\n",
       "      <td>What is the magnetic force on this planet?</td>\n",
       "      <td>What is the force that keeps the planet together?</td>\n",
       "      <td>NaN</td>\n",
       "      <td>NaN</td>\n",
       "      <td>magnetic field</td>\n",
       "    </tr>\n",
       "    <tr>\n",
       "      <th>7</th>\n",
       "      <td>Pressure</td>\n",
       "      <td>What is the pressure on the planet?</td>\n",
       "      <td>What is the force exerted on my body here?</td>\n",
       "      <td>How much is being pushed on me on this planet?</td>\n",
       "      <td>Would I get crushed here?</td>\n",
       "      <td>pressure</td>\n",
       "    </tr>\n",
       "    <tr>\n",
       "      <th>8</th>\n",
       "      <td>Radiation</td>\n",
       "      <td>What is the amount of radiation on this planet?</td>\n",
       "      <td>How much energy do I get on this planet?</td>\n",
       "      <td>Can I get sick here?</td>\n",
       "      <td>Wave energy</td>\n",
       "      <td>radiation</td>\n",
       "    </tr>\n",
       "    <tr>\n",
       "      <th>9</th>\n",
       "      <td>What is the year length here?</td>\n",
       "      <td>How long is a year on this planet?</td>\n",
       "      <td>How old would I be on this planet?</td>\n",
       "      <td>Year length</td>\n",
       "      <td>How long does it take for this planet to orbit...</td>\n",
       "      <td>year</td>\n",
       "    </tr>\n",
       "    <tr>\n",
       "      <th>10</th>\n",
       "      <td>Where am I?</td>\n",
       "      <td>What planet am I on?</td>\n",
       "      <td>What's the name of my location?</td>\n",
       "      <td>Planet name</td>\n",
       "      <td>Location</td>\n",
       "      <td>planet</td>\n",
       "    </tr>\n",
       "    <tr>\n",
       "      <th>11</th>\n",
       "      <td>Who am I?</td>\n",
       "      <td>What is my name?</td>\n",
       "      <td>Do you know me?</td>\n",
       "      <td>Player</td>\n",
       "      <td>Name</td>\n",
       "      <td>player</td>\n",
       "    </tr>\n",
       "  </tbody>\n",
       "</table>\n",
       "</div>"
      ],
      "text/plain": [
       "                                input_1  \\\n",
       "0                  What is my altitude?   \n",
       "1           What is the oxygen content?   \n",
       "2                 How fast is the wind?   \n",
       "3          What is the atmosphere like?   \n",
       "4   What is the gravity on this planet?   \n",
       "5                              Humidity   \n",
       "6                        Magnetic field   \n",
       "7                              Pressure   \n",
       "8                             Radiation   \n",
       "9         What is the year length here?   \n",
       "10                          Where am I?   \n",
       "11                            Who am I?   \n",
       "\n",
       "                                            input_2  \\\n",
       "0                                 How high up am I?   \n",
       "1                                Can I breath here?   \n",
       "2                         What is the airflow like?   \n",
       "3                               Atmosphere contents   \n",
       "4                                           Gravity   \n",
       "5                        What is the humidity here?   \n",
       "6        What is the magnetic force on this planet?   \n",
       "7               What is the pressure on the planet?   \n",
       "8   What is the amount of radiation on this planet?   \n",
       "9                How long is a year on this planet?   \n",
       "10                             What planet am I on?   \n",
       "11                                 What is my name?   \n",
       "\n",
       "                                              input_3  \\\n",
       "0                                       Altitude here   \n",
       "1                                              Oxygen   \n",
       "2        What is the speed of the air on this planet?   \n",
       "3                               What is in the water?   \n",
       "4                  What is the force pulling me down?   \n",
       "5                How moist is the air on this planet?   \n",
       "6   What is the force that keeps the planet together?   \n",
       "7          What is the force exerted on my body here?   \n",
       "8            How much energy do I get on this planet?   \n",
       "9                  How old would I be on this planet?   \n",
       "10                    What's the name of my location?   \n",
       "11                                    Do you know me?   \n",
       "\n",
       "                                           input_4  \\\n",
       "0                                           Height   \n",
       "1                     Is there air on this planet?   \n",
       "2                                             Wind   \n",
       "3                                       Atmosphere   \n",
       "4                                              NaN   \n",
       "5            What is the water content in the air?   \n",
       "6                                              NaN   \n",
       "7   How much is being pushed on me on this planet?   \n",
       "8                             Can I get sick here?   \n",
       "9                                      Year length   \n",
       "10                                     Planet name   \n",
       "11                                          Player   \n",
       "\n",
       "                                              input_5           topic  \n",
       "0                                                 Alt        altitude  \n",
       "1                                                 Air          oxygen  \n",
       "2                                             Airflow         airflow  \n",
       "3                            What is in the air here?      atmosphere  \n",
       "4                  How fast fo I fall on this planet?         gravity  \n",
       "5                               How humid is it here?        humidity  \n",
       "6                                                 NaN  magnetic field  \n",
       "7                           Would I get crushed here?        pressure  \n",
       "8                                         Wave energy       radiation  \n",
       "9   How long does it take for this planet to orbit...            year  \n",
       "10                                           Location          planet  \n",
       "11                                               Name          player  "
      ]
     },
     "execution_count": 2,
     "metadata": {},
     "output_type": "execute_result"
    }
   ],
   "source": [
    "filename = \"Chatbot_Train.csv\"\n",
    "num_inputs = 5\n",
    "data = pd.read_csv(filename)\n",
    "data"
   ]
  },
  {
   "cell_type": "code",
   "execution_count": 3,
   "metadata": {},
   "outputs": [],
   "source": [
    "#method to get appropriate part of speech (need to run tests to check if works properly)\n",
    "def get_wordnet_pos(word):\n",
    "    \"\"\"Map POS tag to first character lemmatize() accepts\"\"\"\n",
    "    tag = nltk.pos_tag([word])[0][1][0].upper()\n",
    "    tag_dict = {\"J\": wordnet.ADJ,\n",
    "                \"N\": wordnet.NOUN,\n",
    "                \"V\": wordnet.VERB,\n",
    "                \"R\": wordnet.ADV}\n",
    "\n",
    "    return tag_dict.get(tag, wordnet.NOUN)\n",
    "class LemmaTokenizer(object):\n",
    "    def __init__(self):\n",
    "        self.wnl = WordNetLemmatizer()\n",
    "    def __call__(self, articles):\n",
    "        return [self.wnl.lemmatize(t, get_wordnet_pos(t)) for t in word_tokenize(articles)]"
   ]
  },
  {
   "cell_type": "code",
   "execution_count": 4,
   "metadata": {},
   "outputs": [
    {
     "name": "stdout",
     "output_type": "stream",
     "text": [
      "['altitude', 'oxygen', 'airflow', 'atmosphere', 'gravity', 'humidity', 'magnetic field', 'pressure', 'radiation', 'year', 'planet', 'player']\n",
      "['What is my altitude?', 'How high up am I?', 'Altitude here', 'Height', 'Alt', 'What is the oxygen content?', 'Can I breath here?', 'Oxygen', 'Is there air on this planet?', 'Air', 'How fast is the wind?', 'What is the airflow like?', 'What is the speed of the air on this planet?', 'Wind', 'Airflow', 'What is the atmosphere like?', 'Atmosphere contents', 'What is in the water?', 'Atmosphere', 'What is in the air here?', 'What is the gravity on this planet?', 'Gravity', 'What is the force pulling me down?', 'How fast fo I fall on this planet?', 'Humidity', 'What is the humidity here?', 'How moist is the air on this planet?', 'What is the water content in the air?', 'How humid is it here?', 'Magnetic field', 'What is the magnetic force on this planet?', 'What is the force that keeps the planet together?', 'Pressure', 'What is the pressure on the planet?', 'What is the force exerted on my body here?', 'How much is being pushed on me on this planet?', 'Would I get crushed here?', 'Radiation', 'What is the amount of radiation on this planet?', 'How much energy do I get on this planet?', 'Can I get sick here?', 'Wave energy', 'What is the year length here?', 'How long is a year on this planet?', 'How old would I be on this planet?', 'Year length', 'How long does it take for this planet to orbit their sun?', 'Where am I?', 'What planet am I on?', \"What's the name of my location?\", ' Planet name', 'Location', 'Who am I?', 'What is my name?', 'Do you know me?', 'Player', 'Name']\n",
      "['altitude', 'altitude', 'altitude', 'altitude', 'altitude', 'oxygen', 'oxygen', 'oxygen', 'oxygen', 'oxygen', 'airflow', 'airflow', 'airflow', 'airflow', 'airflow', 'atmosphere', 'atmosphere', 'atmosphere', 'atmosphere', 'atmosphere', 'gravity', 'gravity', 'gravity', 'gravity', 'humidity', 'humidity', 'humidity', 'humidity', 'humidity', 'magnetic field', 'magnetic field', 'magnetic field', 'pressure', 'pressure', 'pressure', 'pressure', 'pressure', 'radiation', 'radiation', 'radiation', 'radiation', 'radiation', 'year', 'year', 'year', 'year', 'year', 'planet', 'planet', 'planet', 'planet', 'planet', 'player', 'player', 'player', 'player', 'player']\n"
     ]
    }
   ],
   "source": [
    "X = []\n",
    "y = []\n",
    "topics = []\n",
    "\n",
    "# Loop csv append topic\n",
    "for i, j in data.iterrows():\n",
    "    class_value = data.iloc[i][\"topic\"]\n",
    "    if not pd.isna(class_value):\n",
    "        for k in range(num_inputs):\n",
    "            col_value = k+1\n",
    "            row_input = data.iloc[i][\"input_\"+str(col_value)]\n",
    "            if not pd.isna(row_input):\n",
    "                X.append(row_input)\n",
    "                y.append(class_value)\n",
    "    # Add class if topic not present in list\n",
    "    if class_value not in topics:\n",
    "        topics.append(class_value)\n",
    "\n",
    "print(topics)\n",
    "print(X)\n",
    "print(y)"
   ]
  },
  {
   "cell_type": "code",
   "execution_count": 5,
   "metadata": {},
   "outputs": [
    {
     "data": {
      "text/plain": [
       "['what is my altitude?',\n",
       " 'how high up am i?',\n",
       " 'altitude here',\n",
       " 'height',\n",
       " 'alt',\n",
       " 'what is the oxygen content?',\n",
       " 'can i breath here?',\n",
       " 'oxygen',\n",
       " 'is there air on this planet?',\n",
       " 'air',\n",
       " 'how fast is the wind?',\n",
       " 'what is the airflow like?',\n",
       " 'what is the speed of the air on this planet?',\n",
       " 'wind',\n",
       " 'airflow',\n",
       " 'what is the atmosphere like?',\n",
       " 'atmosphere contents',\n",
       " 'what is in the water?',\n",
       " 'atmosphere',\n",
       " 'what is in the air here?',\n",
       " 'what is the gravity on this planet?',\n",
       " 'gravity',\n",
       " 'what is the force pulling me down?',\n",
       " 'how fast fo i fall on this planet?',\n",
       " 'humidity',\n",
       " 'what is the humidity here?',\n",
       " 'how moist is the air on this planet?',\n",
       " 'what is the water content in the air?',\n",
       " 'how humid is it here?',\n",
       " 'magnetic field',\n",
       " 'what is the magnetic force on this planet?',\n",
       " 'what is the force that keeps the planet together?',\n",
       " 'pressure',\n",
       " 'what is the pressure on the planet?',\n",
       " 'what is the force exerted on my body here?',\n",
       " 'how much is being pushed on me on this planet?',\n",
       " 'would i get crushed here?',\n",
       " 'radiation',\n",
       " 'what is the amount of radiation on this planet?',\n",
       " 'how much energy do i get on this planet?',\n",
       " 'can i get sick here?',\n",
       " 'wave energy',\n",
       " 'what is the year length here?',\n",
       " 'how long is a year on this planet?',\n",
       " 'how old would i be on this planet?',\n",
       " 'year length',\n",
       " 'how long does it take for this planet to orbit their sun?',\n",
       " 'where am i?',\n",
       " 'what planet am i on?',\n",
       " \"what's the name of my location?\",\n",
       " ' planet name',\n",
       " 'location',\n",
       " 'who am i?',\n",
       " 'what is my name?',\n",
       " 'do you know me?',\n",
       " 'player',\n",
       " 'name']"
      ]
     },
     "execution_count": 5,
     "metadata": {},
     "output_type": "execute_result"
    }
   ],
   "source": [
    "for i in range(len(X)):\n",
    "    X[i] = X[i].replace(\"[^a-zA-Z0-9\\\\s]\", '')\n",
    "    X[i] = X[i].lower()\n",
    "X"
   ]
  },
  {
   "cell_type": "code",
   "execution_count": 6,
   "metadata": {},
   "outputs": [
    {
     "data": {
      "text/plain": [
       "array([ 1,  1,  1,  1,  1,  6,  6,  6,  6,  6,  0,  0,  0,  0,  0,  2,  2,\n",
       "        2,  2,  2,  3,  3,  3,  3,  4,  4,  4,  4,  4,  5,  5,  5,  9,  9,\n",
       "        9,  9,  9, 10, 10, 10, 10, 10, 11, 11, 11, 11, 11,  7,  7,  7,  7,\n",
       "        7,  8,  8,  8,  8,  8])"
      ]
     },
     "execution_count": 6,
     "metadata": {},
     "output_type": "execute_result"
    }
   ],
   "source": [
    "le = preprocessing.LabelEncoder()\n",
    "y = le.fit_transform(y)\n",
    "y"
   ]
  },
  {
   "cell_type": "code",
   "execution_count": 7,
   "metadata": {},
   "outputs": [],
   "source": [
    "vectorizer = TfidfVectorizer(analyzer = \"word\", token_pattern = None, tokenizer = LemmaTokenizer(), norm = None)\n",
    "X_vect = vectorizer.fit_transform(X)"
   ]
  },
  {
   "cell_type": "code",
   "execution_count": 8,
   "metadata": {},
   "outputs": [
    {
     "name": "stderr",
     "output_type": "stream",
     "text": [
      "/Users/samhum/opt/anaconda3/lib/python3.7/site-packages/sklearn/neural_network/_multilayer_perceptron.py:696: ConvergenceWarning: Stochastic Optimizer: Maximum iterations (200) reached and the optimization hasn't converged yet.\n",
      "  ConvergenceWarning,\n"
     ]
    }
   ],
   "source": [
    "model = neural_network.MLPClassifier()\n",
    "model = model.fit(X_vect, y)  "
   ]
  },
  {
   "cell_type": "code",
   "execution_count": 9,
   "metadata": {},
   "outputs": [],
   "source": [
    "pipeline = PMMLPipeline([ ('vectorizer',vectorizer),\n",
    "        ('mlp', model) ])"
   ]
  },
  {
   "cell_type": "code",
   "execution_count": 22,
   "metadata": {
    "scrolled": true
   },
   "outputs": [
    {
     "data": {
      "text/plain": [
       "array(['player'], dtype='<U14')"
      ]
     },
     "execution_count": 22,
     "metadata": {},
     "output_type": "execute_result"
    }
   ],
   "source": [
    "le.inverse_transform(pipeline.predict([\"What is the named?\"]))"
   ]
  },
  {
   "cell_type": "code",
   "execution_count": 21,
   "metadata": {},
   "outputs": [
    {
     "data": {
      "text/plain": [
       "array([[0.01498255, 0.00310188, 0.03867444, 0.0064261 , 0.01119254,\n",
       "        0.00203802, 0.00608358, 0.13939853, 0.77065985, 0.00353784,\n",
       "        0.00240152, 0.00150315]])"
      ]
     },
     "execution_count": 21,
     "metadata": {},
     "output_type": "execute_result"
    }
   ],
   "source": [
    "pipeline.predict_proba([\"What is the named?\"])"
   ]
  },
  {
   "cell_type": "code",
   "execution_count": 11,
   "metadata": {},
   "outputs": [
    {
     "data": {
      "text/plain": [
       "array(['airflow', 'altitude', 'atmosphere', 'gravity', 'humidity',\n",
       "       'magnetic field', 'oxygen', 'planet', 'player', 'pressure',\n",
       "       'radiation', 'year'], dtype='<U14')"
      ]
     },
     "execution_count": 11,
     "metadata": {},
     "output_type": "execute_result"
    }
   ],
   "source": [
    "le.classes_"
   ]
  },
  {
   "cell_type": "code",
   "execution_count": 20,
   "metadata": {},
   "outputs": [
    {
     "data": {
      "text/plain": [
       "12"
      ]
     },
     "execution_count": 20,
     "metadata": {},
     "output_type": "execute_result"
    }
   ],
   "source": [
    "len(le.classes_)"
   ]
  },
  {
   "cell_type": "code",
   "execution_count": 10,
   "metadata": {},
   "outputs": [],
   "source": [
    "sklearn2pmml(pipeline, 'model.pmml', with_repr = True)"
   ]
  },
  {
   "cell_type": "code",
   "execution_count": null,
   "metadata": {},
   "outputs": [],
   "source": []
  }
 ],
 "metadata": {
  "kernelspec": {
   "display_name": "Python 3",
   "language": "python",
   "name": "python3"
  },
  "language_info": {
   "codemirror_mode": {
    "name": "ipython",
    "version": 3
   },
   "file_extension": ".py",
   "mimetype": "text/x-python",
   "name": "python",
   "nbconvert_exporter": "python",
   "pygments_lexer": "ipython3",
   "version": "3.7.6"
  }
 },
 "nbformat": 4,
 "nbformat_minor": 4
}
